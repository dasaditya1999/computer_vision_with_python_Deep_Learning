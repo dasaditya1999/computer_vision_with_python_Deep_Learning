{
 "cells": [
  {
   "cell_type": "code",
   "execution_count": 2,
   "id": "c974b998-9a55-45e3-8aa5-806cd5ec2deb",
   "metadata": {},
   "outputs": [],
   "source": [
    "import cv2\n",
    "import matplotlib.pyplot as plt"
   ]
  },
  {
   "cell_type": "code",
   "execution_count": 3,
   "id": "828443d1-c247-444f-bec3-ee775191bac7",
   "metadata": {},
   "outputs": [],
   "source": [
    "capture = cv2.VideoCapture(0)\n",
    "\n",
    "face_cascade = cv2.CascadeClassifier('haarcascade_frontalface_default.xml')\n",
    "\n",
    "while True:\n",
    "    ret, frame = capture.read()\n",
    "\n",
    "    list_rectangles = face_cascade.detectMultiScale(frame)\n",
    "\n",
    "    for x,y,w,h in list_rectangles:\n",
    "        cv2.rectangle(frame,(x,y),(x+w,y+h),(255,255,0),5)\n",
    "\n",
    "    cv2.imshow('video', frame)\n",
    "\n",
    "    if cv2.waitKey(2) & 0xFF == 27:\n",
    "        break\n",
    "\n",
    "capture.release()\n",
    "cv2.destroyAllWindows()"
   ]
  },
  {
   "cell_type": "code",
   "execution_count": null,
   "id": "4b9ff290-a9f8-451d-891a-f7ef77547dc5",
   "metadata": {},
   "outputs": [],
   "source": []
  },
  {
   "cell_type": "code",
   "execution_count": null,
   "id": "25312c56-db2b-4041-bb83-beb0329712a5",
   "metadata": {},
   "outputs": [],
   "source": []
  },
  {
   "cell_type": "code",
   "execution_count": null,
   "id": "aaa0c420-518c-40b7-91a8-2a250221fa3e",
   "metadata": {},
   "outputs": [],
   "source": []
  },
  {
   "cell_type": "code",
   "execution_count": 1,
   "id": "f36070ed-5229-463d-981e-2918de8cf378",
   "metadata": {},
   "outputs": [],
   "source": [
    "import cv2\n",
    "import matplotlib.pyplot as plt\n",
    "import numpy as np"
   ]
  },
  {
   "cell_type": "code",
   "execution_count": 2,
   "id": "be888009-628f-45c5-9c6f-302f92a8f637",
   "metadata": {},
   "outputs": [],
   "source": [
    "capture = cv2.VideoCapture(0)\n",
    "\n",
    "# Prepare the Cascade Classifiers\n",
    "cascade_face = cv2.CascadeClassifier('haarcascade_frontalface_default.xml')\n",
    "\n",
    "while True:\n",
    "    \n",
    "    ret, frame = capture.read()\n",
    "\n",
    "    face_rectangles = cascade_face.detectMultiScale(frame)\n",
    "\n",
    "    for x,y,w,h in face_rectangles:\n",
    "        cv2.rectangle(frame,(x,y),(x+w,y+h),(255,0,0),4)\n",
    "    \n",
    "    cv2.imshow('Video', frame)\n",
    "\n",
    "    if cv2.waitKey(2) & 0xFF == 27:\n",
    "        break\n",
    "\n",
    "capture.release()\n",
    "cv2.destroyAllWindows()"
   ]
  },
  {
   "cell_type": "code",
   "execution_count": null,
   "id": "35b4dfb1-8fcf-4f91-ba7d-b534e7bca936",
   "metadata": {},
   "outputs": [],
   "source": []
  },
  {
   "cell_type": "code",
   "execution_count": null,
   "id": "5c4e8831-40c7-40b9-87c7-c96d9af3e3b4",
   "metadata": {},
   "outputs": [],
   "source": []
  },
  {
   "cell_type": "code",
   "execution_count": null,
   "id": "33181e8c-4c94-4d5f-961a-cf073a9d8849",
   "metadata": {},
   "outputs": [],
   "source": []
  },
  {
   "cell_type": "code",
   "execution_count": null,
   "id": "32345894-2807-4be7-b6aa-2e1f22900ed7",
   "metadata": {},
   "outputs": [],
   "source": []
  }
 ],
 "metadata": {
  "kernelspec": {
   "display_name": "Python 3 (ipykernel)",
   "language": "python",
   "name": "python3"
  },
  "language_info": {
   "codemirror_mode": {
    "name": "ipython",
    "version": 3
   },
   "file_extension": ".py",
   "mimetype": "text/x-python",
   "name": "python",
   "nbconvert_exporter": "python",
   "pygments_lexer": "ipython3",
   "version": "3.11.5"
  }
 },
 "nbformat": 4,
 "nbformat_minor": 5
}
