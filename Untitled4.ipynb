{
 "cells": [
  {
   "cell_type": "code",
   "execution_count": 30,
   "id": "c945b131-591c-4441-9208-c6bb47d47789",
   "metadata": {},
   "outputs": [
    {
     "data": {
      "text/plain": [
       "'23'"
      ]
     },
     "execution_count": 30,
     "metadata": {},
     "output_type": "execute_result"
    }
   ],
   "source": [
    "x = 123\n",
    "y = str(x)\n",
    "# import numpy as np\n",
    "# y[-1:-4:-1]\n",
    "y[-2:len(y)]\n"
   ]
  },
  {
   "cell_type": "code",
   "execution_count": 18,
   "id": "e1bac458-ed7a-49e5-9918-34f03428ad90",
   "metadata": {},
   "outputs": [],
   "source": [
    "d  = dict({'a':1, 'b':2})"
   ]
  },
  {
   "cell_type": "code",
   "execution_count": 19,
   "id": "7cc11a0d-512a-4809-bfcc-b5bf31ed6927",
   "metadata": {},
   "outputs": [
    {
     "data": {
      "text/plain": [
       "dict"
      ]
     },
     "execution_count": 19,
     "metadata": {},
     "output_type": "execute_result"
    }
   ],
   "source": [
    "type(d)"
   ]
  },
  {
   "cell_type": "code",
   "execution_count": 23,
   "id": "98e2ae85-4d03-40ad-8aa9-703c2fed1d0a",
   "metadata": {},
   "outputs": [],
   "source": [
    "d['b'] = 5"
   ]
  },
  {
   "cell_type": "code",
   "execution_count": 24,
   "id": "8c4988b9-227e-4ef9-bb43-15348ec981dc",
   "metadata": {},
   "outputs": [
    {
     "data": {
      "text/plain": [
       "{'a': 1, 'b': 5}"
      ]
     },
     "execution_count": 24,
     "metadata": {},
     "output_type": "execute_result"
    }
   ],
   "source": [
    "d"
   ]
  },
  {
   "cell_type": "code",
   "execution_count": 20,
   "id": "f6c8e75f-8c0b-4b77-aa7f-daad3144d94d",
   "metadata": {},
   "outputs": [
    {
     "name": "stdout",
     "output_type": "stream",
     "text": [
      "a\n",
      "b\n",
      "b\n",
      "c\n",
      "j\n"
     ]
    }
   ],
   "source": [
    "s = 'abbcj'\n",
    "for i in s:\n",
    "    print(i)"
   ]
  },
  {
   "cell_type": "code",
   "execution_count": null,
   "id": "f43f9846-2536-4d14-b858-c0e26e54b43d",
   "metadata": {},
   "outputs": [],
   "source": []
  }
 ],
 "metadata": {
  "kernelspec": {
   "display_name": "Python 3 (ipykernel)",
   "language": "python",
   "name": "python3"
  },
  "language_info": {
   "codemirror_mode": {
    "name": "ipython",
    "version": 3
   },
   "file_extension": ".py",
   "mimetype": "text/x-python",
   "name": "python",
   "nbconvert_exporter": "python",
   "pygments_lexer": "ipython3",
   "version": "3.11.5"
  }
 },
 "nbformat": 4,
 "nbformat_minor": 5
}
