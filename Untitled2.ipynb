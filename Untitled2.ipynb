{
 "cells": [
  {
   "cell_type": "code",
   "execution_count": null,
   "id": "032961f5-fa0c-434f-945a-d96654222780",
   "metadata": {},
   "outputs": [],
   "source": [
    "import numpy as np\n",
    "import pandas as pd\n",
    "import cv2\n",
    "\n",
    "\n",
    "def draw_rectangle(event, x, y, flags, param):\n",
    "    global pt1, pt2, topLeftClicked, botRightClicked\n",
    "\n",
    "    if event == cv2.EVENT_LBUTTONDOWN:\n",
    "        print('Left Button Up')\n",
    "    if event == cv2.EVENT_LBUTTONUP:\n",
    "        print('Left button down')\n",
    "    \n",
    "\n",
    "# Not started Drawing yet\n",
    "pt1 = (0,0)\n",
    "pt2 = (0,0)\n",
    "topLeftClicked = False\n",
    "botRightClicked = False\n",
    "\n",
    "capture = cv2.VideoCapture(0)\n",
    "\n",
    "cv2.namedWindow('myvideo')\n",
    "cv2.setMouseCallback('myvideo',draw_rectangle)\n",
    "\n",
    "\n",
    "while True:\n",
    "    ret, frame = capture.read()\n",
    "\n",
    "    if topLeftClicked == True:\n",
    "        cv2.circle(frame,pt1,5,(255,0,0),-1)\n",
    "\n",
    "    if botRightClicked == True and topLeftClicked==True:\n",
    "        cv2.rectangle(frame,pt1,pt2,(0,0,255),5)\n",
    "    \n",
    "    cv2.imshow('myvideo', frame)\n",
    "\n",
    "    if cv2.waitKey(1) & 0xFF == 27:\n",
    "        break;\n",
    "\n",
    "capture.release()\n",
    "cv2.destroyAllWindows()"
   ]
  },
  {
   "cell_type": "code",
   "execution_count": 1,
   "id": "92702ca1-a47a-4b4c-9e3d-1d327f8917e4",
   "metadata": {},
   "outputs": [],
   "source": [
    "import cv2\n"
   ]
  },
  {
   "cell_type": "code",
   "execution_count": null,
   "id": "0aceacfb-40c6-4e2a-a5aa-54303fddddbd",
   "metadata": {},
   "outputs": [],
   "source": [
    "cv2.circle()"
   ]
  }
 ],
 "metadata": {
  "kernelspec": {
   "display_name": "Python 3 (ipykernel)",
   "language": "python",
   "name": "python3"
  },
  "language_info": {
   "codemirror_mode": {
    "name": "ipython",
    "version": 3
   },
   "file_extension": ".py",
   "mimetype": "text/x-python",
   "name": "python",
   "nbconvert_exporter": "python",
   "pygments_lexer": "ipython3",
   "version": "3.11.5"
  }
 },
 "nbformat": 4,
 "nbformat_minor": 5
}
