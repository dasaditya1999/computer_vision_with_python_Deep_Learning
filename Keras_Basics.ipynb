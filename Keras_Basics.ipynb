{
 "cells": [
  {
   "cell_type": "markdown",
   "id": "80b9c5f0-dc41-413c-bcdb-d423e36e7265",
   "metadata": {},
   "source": [
    "### Here we will train a neural network model which will classify a Bank note is Forgery or not"
   ]
  },
  {
   "cell_type": "code",
   "execution_count": null,
   "id": "98dbd35b-9c68-4551-a0af-66bb3a052cd1",
   "metadata": {},
   "outputs": [],
   "source": []
  },
  {
   "cell_type": "code",
   "execution_count": 1,
   "id": "8def029e-ca21-4f15-b267-07b571db0101",
   "metadata": {},
   "outputs": [],
   "source": [
    "import numpy as np\n",
    "import pandas as pd\n",
    "from numpy import genfromtxt\n",
    "import keras\n",
    "from sklearn.preprocessing import MinMaxScaler"
   ]
  },
  {
   "cell_type": "code",
   "execution_count": 2,
   "id": "b2e45603-7ba3-4e6d-8407-b0f53927f975",
   "metadata": {},
   "outputs": [],
   "source": [
    "from sklearn.model_selection import train_test_split "
   ]
  },
  {
   "cell_type": "code",
   "execution_count": 3,
   "id": "875e075a-bf02-4cda-8cc5-5b39622c5df6",
   "metadata": {},
   "outputs": [],
   "source": [
    "data = genfromtxt('bank_note_data.txt', delimiter=',')"
   ]
  },
  {
   "cell_type": "code",
   "execution_count": 4,
   "id": "38d3dc90-1e79-444f-8160-cf37a9a93c02",
   "metadata": {},
   "outputs": [
    {
     "data": {
      "text/plain": [
       "array([[  3.6216 ,   8.6661 ,  -2.8073 ,  -0.44699,   0.     ],\n",
       "       [  4.5459 ,   8.1674 ,  -2.4586 ,  -1.4621 ,   0.     ],\n",
       "       [  3.866  ,  -2.6383 ,   1.9242 ,   0.10645,   0.     ],\n",
       "       ...,\n",
       "       [ -3.7503 , -13.4586 ,  17.5932 ,  -2.7771 ,   1.     ],\n",
       "       [ -3.5637 ,  -8.3827 ,  12.393  ,  -1.2823 ,   1.     ],\n",
       "       [ -2.5419 ,  -0.65804,   2.6842 ,   1.1952 ,   1.     ]])"
      ]
     },
     "execution_count": 4,
     "metadata": {},
     "output_type": "execute_result"
    }
   ],
   "source": [
    "data"
   ]
  },
  {
   "cell_type": "code",
   "execution_count": 5,
   "id": "a230ee23-151e-442e-8c0c-e3e85bdd0ebc",
   "metadata": {},
   "outputs": [
    {
     "data": {
      "text/plain": [
       "(1372, 5)"
      ]
     },
     "execution_count": 5,
     "metadata": {},
     "output_type": "execute_result"
    }
   ],
   "source": [
    "data.shape"
   ]
  },
  {
   "cell_type": "code",
   "execution_count": 6,
   "id": "71317e61-4885-4566-bbea-f46945a31057",
   "metadata": {},
   "outputs": [
    {
     "data": {
      "text/plain": [
       "numpy.ndarray"
      ]
     },
     "execution_count": 6,
     "metadata": {},
     "output_type": "execute_result"
    }
   ],
   "source": [
    "type(data)"
   ]
  },
  {
   "cell_type": "code",
   "execution_count": 7,
   "id": "e4dd973a-a474-4eb3-8fa5-c73b8c0107be",
   "metadata": {},
   "outputs": [],
   "source": [
    "features = data[:,0:4]\n",
    "label = data[:,4]"
   ]
  },
  {
   "cell_type": "code",
   "execution_count": 8,
   "id": "99781eaa-99d3-490f-8fc0-7ca4f543ebb6",
   "metadata": {},
   "outputs": [
    {
     "data": {
      "text/plain": [
       "(1372, 4)"
      ]
     },
     "execution_count": 8,
     "metadata": {},
     "output_type": "execute_result"
    }
   ],
   "source": [
    "features.shape"
   ]
  },
  {
   "cell_type": "code",
   "execution_count": 9,
   "id": "12fc48bd-88c5-44b8-a777-c7c8606ff0ae",
   "metadata": {},
   "outputs": [
    {
     "data": {
      "text/plain": [
       "(1372,)"
      ]
     },
     "execution_count": 9,
     "metadata": {},
     "output_type": "execute_result"
    }
   ],
   "source": [
    "label.shape"
   ]
  },
  {
   "cell_type": "code",
   "execution_count": 10,
   "id": "3224f6b4-0e01-439c-8ed9-8db172ad3be3",
   "metadata": {},
   "outputs": [
    {
     "data": {
      "text/plain": [
       "0    0\n",
       "dtype: int64"
      ]
     },
     "execution_count": 10,
     "metadata": {},
     "output_type": "execute_result"
    }
   ],
   "source": [
    "pd.DataFrame(label).isna().sum()"
   ]
  },
  {
   "cell_type": "code",
   "execution_count": null,
   "id": "02698bff-d840-4ea0-bf3a-3a2cc1c52935",
   "metadata": {},
   "outputs": [],
   "source": []
  },
  {
   "cell_type": "code",
   "execution_count": 11,
   "id": "3ef33d8d-8503-4ca8-a9b7-b51d88eb15fd",
   "metadata": {},
   "outputs": [],
   "source": [
    "# Train Test Split"
   ]
  },
  {
   "cell_type": "code",
   "execution_count": 12,
   "id": "af5bb6d8-992a-4dc9-8401-21130c378296",
   "metadata": {},
   "outputs": [],
   "source": [
    "X_train, X_test, y_train, y_test = train_test_split(features,label,test_size=0.2,random_state=42)"
   ]
  },
  {
   "cell_type": "code",
   "execution_count": 14,
   "id": "42e43b0a-3377-4dc0-8f92-4a97c99e2bc3",
   "metadata": {},
   "outputs": [],
   "source": [
    "# y_test"
   ]
  },
  {
   "cell_type": "code",
   "execution_count": null,
   "id": "8f97c87f-6335-4884-beaa-bb127cbdb4ad",
   "metadata": {},
   "outputs": [],
   "source": []
  },
  {
   "cell_type": "markdown",
   "id": "79d57eca-1a4c-4ede-b3a7-709a72c75ed5",
   "metadata": {},
   "source": [
    "### Standardizing the Train & Test data for better training & result"
   ]
  },
  {
   "cell_type": "code",
   "execution_count": 15,
   "id": "291acfb7-ca70-4f6e-90ad-f71bd7479763",
   "metadata": {},
   "outputs": [],
   "source": [
    "standardizing_object = MinMaxScaler()"
   ]
  },
  {
   "cell_type": "code",
   "execution_count": 16,
   "id": "1e31709f-ce1c-4779-a60f-49ee9e067b94",
   "metadata": {},
   "outputs": [
    {
     "data": {
      "text/html": [
       "<style>#sk-container-id-1 {color: black;}#sk-container-id-1 pre{padding: 0;}#sk-container-id-1 div.sk-toggleable {background-color: white;}#sk-container-id-1 label.sk-toggleable__label {cursor: pointer;display: block;width: 100%;margin-bottom: 0;padding: 0.3em;box-sizing: border-box;text-align: center;}#sk-container-id-1 label.sk-toggleable__label-arrow:before {content: \"▸\";float: left;margin-right: 0.25em;color: #696969;}#sk-container-id-1 label.sk-toggleable__label-arrow:hover:before {color: black;}#sk-container-id-1 div.sk-estimator:hover label.sk-toggleable__label-arrow:before {color: black;}#sk-container-id-1 div.sk-toggleable__content {max-height: 0;max-width: 0;overflow: hidden;text-align: left;background-color: #f0f8ff;}#sk-container-id-1 div.sk-toggleable__content pre {margin: 0.2em;color: black;border-radius: 0.25em;background-color: #f0f8ff;}#sk-container-id-1 input.sk-toggleable__control:checked~div.sk-toggleable__content {max-height: 200px;max-width: 100%;overflow: auto;}#sk-container-id-1 input.sk-toggleable__control:checked~label.sk-toggleable__label-arrow:before {content: \"▾\";}#sk-container-id-1 div.sk-estimator input.sk-toggleable__control:checked~label.sk-toggleable__label {background-color: #d4ebff;}#sk-container-id-1 div.sk-label input.sk-toggleable__control:checked~label.sk-toggleable__label {background-color: #d4ebff;}#sk-container-id-1 input.sk-hidden--visually {border: 0;clip: rect(1px 1px 1px 1px);clip: rect(1px, 1px, 1px, 1px);height: 1px;margin: -1px;overflow: hidden;padding: 0;position: absolute;width: 1px;}#sk-container-id-1 div.sk-estimator {font-family: monospace;background-color: #f0f8ff;border: 1px dotted black;border-radius: 0.25em;box-sizing: border-box;margin-bottom: 0.5em;}#sk-container-id-1 div.sk-estimator:hover {background-color: #d4ebff;}#sk-container-id-1 div.sk-parallel-item::after {content: \"\";width: 100%;border-bottom: 1px solid gray;flex-grow: 1;}#sk-container-id-1 div.sk-label:hover label.sk-toggleable__label {background-color: #d4ebff;}#sk-container-id-1 div.sk-serial::before {content: \"\";position: absolute;border-left: 1px solid gray;box-sizing: border-box;top: 0;bottom: 0;left: 50%;z-index: 0;}#sk-container-id-1 div.sk-serial {display: flex;flex-direction: column;align-items: center;background-color: white;padding-right: 0.2em;padding-left: 0.2em;position: relative;}#sk-container-id-1 div.sk-item {position: relative;z-index: 1;}#sk-container-id-1 div.sk-parallel {display: flex;align-items: stretch;justify-content: center;background-color: white;position: relative;}#sk-container-id-1 div.sk-item::before, #sk-container-id-1 div.sk-parallel-item::before {content: \"\";position: absolute;border-left: 1px solid gray;box-sizing: border-box;top: 0;bottom: 0;left: 50%;z-index: -1;}#sk-container-id-1 div.sk-parallel-item {display: flex;flex-direction: column;z-index: 1;position: relative;background-color: white;}#sk-container-id-1 div.sk-parallel-item:first-child::after {align-self: flex-end;width: 50%;}#sk-container-id-1 div.sk-parallel-item:last-child::after {align-self: flex-start;width: 50%;}#sk-container-id-1 div.sk-parallel-item:only-child::after {width: 0;}#sk-container-id-1 div.sk-dashed-wrapped {border: 1px dashed gray;margin: 0 0.4em 0.5em 0.4em;box-sizing: border-box;padding-bottom: 0.4em;background-color: white;}#sk-container-id-1 div.sk-label label {font-family: monospace;font-weight: bold;display: inline-block;line-height: 1.2em;}#sk-container-id-1 div.sk-label-container {text-align: center;}#sk-container-id-1 div.sk-container {/* jupyter's `normalize.less` sets `[hidden] { display: none; }` but bootstrap.min.css set `[hidden] { display: none !important; }` so we also need the `!important` here to be able to override the default hidden behavior on the sphinx rendered scikit-learn.org. See: https://github.com/scikit-learn/scikit-learn/issues/21755 */display: inline-block !important;position: relative;}#sk-container-id-1 div.sk-text-repr-fallback {display: none;}</style><div id=\"sk-container-id-1\" class=\"sk-top-container\"><div class=\"sk-text-repr-fallback\"><pre>MinMaxScaler()</pre><b>In a Jupyter environment, please rerun this cell to show the HTML representation or trust the notebook. <br />On GitHub, the HTML representation is unable to render, please try loading this page with nbviewer.org.</b></div><div class=\"sk-container\" hidden><div class=\"sk-item\"><div class=\"sk-estimator sk-toggleable\"><input class=\"sk-toggleable__control sk-hidden--visually\" id=\"sk-estimator-id-1\" type=\"checkbox\" checked><label for=\"sk-estimator-id-1\" class=\"sk-toggleable__label sk-toggleable__label-arrow\">MinMaxScaler</label><div class=\"sk-toggleable__content\"><pre>MinMaxScaler()</pre></div></div></div></div></div>"
      ],
      "text/plain": [
       "MinMaxScaler()"
      ]
     },
     "execution_count": 16,
     "metadata": {},
     "output_type": "execute_result"
    }
   ],
   "source": [
    "standardizing_object.fit(X_train)"
   ]
  },
  {
   "cell_type": "code",
   "execution_count": 17,
   "id": "bda63c29-e40f-4b83-bb05-9521a8bf795b",
   "metadata": {},
   "outputs": [],
   "source": [
    "X_train_scaled = standardizing_object.transform(X_train)\n",
    "X_test_scaled = standardizing_object.transform(X_test)"
   ]
  },
  {
   "cell_type": "code",
   "execution_count": 18,
   "id": "54589014-599e-4883-8020-e2e6374c16c3",
   "metadata": {},
   "outputs": [
    {
     "data": {
      "text/plain": [
       "(1097, 4)"
      ]
     },
     "execution_count": 18,
     "metadata": {},
     "output_type": "execute_result"
    }
   ],
   "source": [
    "X_train_scaled.shape"
   ]
  },
  {
   "cell_type": "code",
   "execution_count": 19,
   "id": "236854a4-68f8-4341-b1be-f3dbb95bcf48",
   "metadata": {},
   "outputs": [
    {
     "data": {
      "text/plain": [
       "(1097, 4)"
      ]
     },
     "execution_count": 19,
     "metadata": {},
     "output_type": "execute_result"
    }
   ],
   "source": [
    "X_train.shape"
   ]
  },
  {
   "cell_type": "code",
   "execution_count": 20,
   "id": "9dcc0091-a5a5-4e5a-b603-8f21f5627f44",
   "metadata": {},
   "outputs": [
    {
     "data": {
      "text/plain": [
       "(275, 4)"
      ]
     },
     "execution_count": 20,
     "metadata": {},
     "output_type": "execute_result"
    }
   ],
   "source": [
    "X_test_scaled.shape"
   ]
  },
  {
   "cell_type": "code",
   "execution_count": 21,
   "id": "6f249221-6d28-48ac-9f8f-76066f229402",
   "metadata": {},
   "outputs": [
    {
     "data": {
      "text/plain": [
       "(275, 4)"
      ]
     },
     "execution_count": 21,
     "metadata": {},
     "output_type": "execute_result"
    }
   ],
   "source": [
    "X_test.shape"
   ]
  },
  {
   "cell_type": "code",
   "execution_count": 22,
   "id": "ba53ad2c-a532-4446-857c-68d99cdd58a0",
   "metadata": {},
   "outputs": [
    {
     "data": {
      "text/plain": [
       "array([[0.62098955, 0.75284662, 0.21900753, 0.5730998 ],\n",
       "       [0.48778602, 0.82175665, 0.09174727, 0.56211079],\n",
       "       [0.51158363, 0.77924916, 0.13830875, 0.50392598],\n",
       "       ...,\n",
       "       [0.75753773, 0.34889447, 0.37966768, 0.81250432],\n",
       "       [0.48778747, 0.82175665, 0.09174727, 0.56211079],\n",
       "       [0.70853615, 0.92621058, 0.07349701, 0.38693083]])"
      ]
     },
     "execution_count": 22,
     "metadata": {},
     "output_type": "execute_result"
    }
   ],
   "source": [
    "X_test_scaled"
   ]
  },
  {
   "cell_type": "code",
   "execution_count": 24,
   "id": "45045640-cd06-456b-9a7a-18e1c8170ce7",
   "metadata": {},
   "outputs": [
    {
     "data": {
      "text/plain": [
       "(1.02679563427227, -0.0010694864308909147)"
      ]
     },
     "execution_count": 24,
     "metadata": {},
     "output_type": "execute_result"
    }
   ],
   "source": [
    "X_test_scaled.max(), X_test_scaled.min()"
   ]
  },
  {
   "cell_type": "code",
   "execution_count": 25,
   "id": "1a3df48f-7215-42e1-aede-2fa817918918",
   "metadata": {},
   "outputs": [
    {
     "data": {
      "text/plain": [
       "(15.5573, -13.2869)"
      ]
     },
     "execution_count": 25,
     "metadata": {},
     "output_type": "execute_result"
    }
   ],
   "source": [
    "X_test.max(), X_test.min()"
   ]
  },
  {
   "cell_type": "code",
   "execution_count": 23,
   "id": "c50e03ff-05f5-4a6e-b9ea-ab1e31b6e871",
   "metadata": {},
   "outputs": [
    {
     "data": {
      "text/plain": [
       "array([[ 1.5691  ,  6.3465  , -0.1828  , -2.4099  ],\n",
       "       [-0.27802 ,  8.1881  , -3.1338  , -2.5276  ],\n",
       "       [ 0.051979,  7.0521  , -2.0541  , -3.1508  ],\n",
       "       ...,\n",
       "       [ 3.4626  , -4.449   ,  3.5427  ,  0.15429 ],\n",
       "       [-0.278   ,  8.1881  , -3.1338  , -2.5276  ],\n",
       "       [ 2.7831  , 10.9796  , -3.557   , -4.4039  ]])"
      ]
     },
     "execution_count": 23,
     "metadata": {},
     "output_type": "execute_result"
    }
   ],
   "source": [
    "X_test"
   ]
  },
  {
   "cell_type": "code",
   "execution_count": null,
   "id": "569162f0-8ce2-4a3b-a6ef-508397522105",
   "metadata": {},
   "outputs": [],
   "source": []
  },
  {
   "cell_type": "markdown",
   "id": "9cb89657-1ec8-4a8b-a928-0b667cf7b447",
   "metadata": {},
   "source": [
    "### Building the network with Keras"
   ]
  },
  {
   "cell_type": "code",
   "execution_count": 26,
   "id": "3f8b1fbd-e1a5-4a42-a82e-4da5b9c38ca7",
   "metadata": {},
   "outputs": [],
   "source": [
    "from keras.models import Sequential\n",
    "from keras.layers import Dense\n",
    "from keras.metrics import accuracy_metrics, accuracy, confusion_metrics"
   ]
  },
  {
   "cell_type": "code",
   "execution_count": null,
   "id": "cbd37cba-8129-4d07-8795-25aec1374d82",
   "metadata": {},
   "outputs": [],
   "source": []
  },
  {
   "cell_type": "code",
   "execution_count": 27,
   "id": "08aec7e0-ba75-46f3-9685-82776a7f496f",
   "metadata": {},
   "outputs": [],
   "source": [
    "model = Sequential()\n",
    "\n",
    "# Input Layer\n",
    "model.add(Dense(units=4,input_dim=4, activation='relu'))\n",
    "\n",
    "# Hidden Layer\n",
    "model.add(Dense(units=8, activation='relu'))\n",
    "\n",
    "#Output Layer\n",
    "model.add(Dense(units=1, activation='sigmoid'))"
   ]
  },
  {
   "cell_type": "markdown",
   "id": "c5574c26-72a6-441c-9497-3648c7b7ed70",
   "metadata": {},
   "source": [
    "### Compiling the neural network model"
   ]
  },
  {
   "cell_type": "code",
   "execution_count": 33,
   "id": "9ffab160-4ba3-4669-abfd-42487e88a17f",
   "metadata": {},
   "outputs": [],
   "source": [
    "model.compile(optimizer='adam',loss='binary_crossentropy', metrics=['accuracy'])"
   ]
  },
  {
   "cell_type": "code",
   "execution_count": null,
   "id": "c04b2203-fc0c-4a42-a500-a3bba19b1c99",
   "metadata": {},
   "outputs": [],
   "source": []
  },
  {
   "cell_type": "markdown",
   "id": "f8c0d8b4-26c8-4e60-b527-9f2834a15cea",
   "metadata": {},
   "source": [
    "### Training/fitting the Deep Neural Network model"
   ]
  },
  {
   "cell_type": "code",
   "execution_count": 35,
   "id": "a46fb2dd-b691-4122-ab89-9599fd709deb",
   "metadata": {},
   "outputs": [
    {
     "name": "stdout",
     "output_type": "stream",
     "text": [
      "Epoch 1/100\n",
      "35/35 - 0s - loss: 0.0843 - accuracy: 0.9708 - 20ms/epoch - 567us/step\n",
      "Epoch 2/100\n",
      "35/35 - 0s - loss: 0.0819 - accuracy: 0.9681 - 14ms/epoch - 412us/step\n",
      "Epoch 3/100\n",
      "35/35 - 0s - loss: 0.0804 - accuracy: 0.9708 - 13ms/epoch - 369us/step\n",
      "Epoch 4/100\n",
      "35/35 - 0s - loss: 0.0780 - accuracy: 0.9727 - 13ms/epoch - 383us/step\n",
      "Epoch 5/100\n",
      "35/35 - 0s - loss: 0.0779 - accuracy: 0.9727 - 13ms/epoch - 380us/step\n",
      "Epoch 6/100\n",
      "35/35 - 0s - loss: 0.0758 - accuracy: 0.9708 - 13ms/epoch - 374us/step\n",
      "Epoch 7/100\n",
      "35/35 - 0s - loss: 0.0730 - accuracy: 0.9736 - 13ms/epoch - 381us/step\n",
      "Epoch 8/100\n",
      "35/35 - 0s - loss: 0.0720 - accuracy: 0.9763 - 13ms/epoch - 383us/step\n",
      "Epoch 9/100\n",
      "35/35 - 0s - loss: 0.0699 - accuracy: 0.9754 - 13ms/epoch - 365us/step\n",
      "Epoch 10/100\n",
      "35/35 - 0s - loss: 0.0688 - accuracy: 0.9717 - 13ms/epoch - 383us/step\n",
      "Epoch 11/100\n",
      "35/35 - 0s - loss: 0.0690 - accuracy: 0.9717 - 13ms/epoch - 383us/step\n",
      "Epoch 12/100\n",
      "35/35 - 0s - loss: 0.0665 - accuracy: 0.9727 - 13ms/epoch - 376us/step\n",
      "Epoch 13/100\n",
      "35/35 - 0s - loss: 0.0646 - accuracy: 0.9781 - 13ms/epoch - 381us/step\n",
      "Epoch 14/100\n",
      "35/35 - 0s - loss: 0.0649 - accuracy: 0.9745 - 14ms/epoch - 388us/step\n",
      "Epoch 15/100\n",
      "35/35 - 0s - loss: 0.0629 - accuracy: 0.9745 - 15ms/epoch - 427us/step\n",
      "Epoch 16/100\n",
      "35/35 - 0s - loss: 0.0616 - accuracy: 0.9818 - 13ms/epoch - 383us/step\n",
      "Epoch 17/100\n",
      "35/35 - 0s - loss: 0.0609 - accuracy: 0.9763 - 13ms/epoch - 380us/step\n",
      "Epoch 18/100\n",
      "35/35 - 0s - loss: 0.0601 - accuracy: 0.9754 - 13ms/epoch - 382us/step\n",
      "Epoch 19/100\n",
      "35/35 - 0s - loss: 0.0594 - accuracy: 0.9790 - 13ms/epoch - 364us/step\n",
      "Epoch 20/100\n",
      "35/35 - 0s - loss: 0.0584 - accuracy: 0.9781 - 13ms/epoch - 378us/step\n",
      "Epoch 21/100\n",
      "35/35 - 0s - loss: 0.0576 - accuracy: 0.9763 - 13ms/epoch - 379us/step\n",
      "Epoch 22/100\n",
      "35/35 - 0s - loss: 0.0568 - accuracy: 0.9781 - 13ms/epoch - 384us/step\n",
      "Epoch 23/100\n",
      "35/35 - 0s - loss: 0.0578 - accuracy: 0.9790 - 13ms/epoch - 371us/step\n",
      "Epoch 24/100\n",
      "35/35 - 0s - loss: 0.0555 - accuracy: 0.9799 - 13ms/epoch - 383us/step\n",
      "Epoch 25/100\n",
      "35/35 - 0s - loss: 0.0544 - accuracy: 0.9799 - 13ms/epoch - 375us/step\n",
      "Epoch 26/100\n",
      "35/35 - 0s - loss: 0.0536 - accuracy: 0.9818 - 13ms/epoch - 377us/step\n",
      "Epoch 27/100\n",
      "35/35 - 0s - loss: 0.0535 - accuracy: 0.9799 - 15ms/epoch - 422us/step\n",
      "Epoch 28/100\n",
      "35/35 - 0s - loss: 0.0529 - accuracy: 0.9790 - 14ms/epoch - 387us/step\n",
      "Epoch 29/100\n",
      "35/35 - 0s - loss: 0.0520 - accuracy: 0.9809 - 13ms/epoch - 378us/step\n",
      "Epoch 30/100\n",
      "35/35 - 0s - loss: 0.0506 - accuracy: 0.9809 - 14ms/epoch - 388us/step\n",
      "Epoch 31/100\n",
      "35/35 - 0s - loss: 0.0505 - accuracy: 0.9809 - 13ms/epoch - 375us/step\n",
      "Epoch 32/100\n",
      "35/35 - 0s - loss: 0.0503 - accuracy: 0.9818 - 13ms/epoch - 383us/step\n",
      "Epoch 33/100\n",
      "35/35 - 0s - loss: 0.0493 - accuracy: 0.9781 - 13ms/epoch - 381us/step\n",
      "Epoch 34/100\n",
      "35/35 - 0s - loss: 0.0483 - accuracy: 0.9799 - 14ms/epoch - 402us/step\n",
      "Epoch 35/100\n",
      "35/35 - 0s - loss: 0.0481 - accuracy: 0.9790 - 14ms/epoch - 403us/step\n",
      "Epoch 36/100\n",
      "35/35 - 0s - loss: 0.0471 - accuracy: 0.9827 - 16ms/epoch - 464us/step\n",
      "Epoch 37/100\n",
      "35/35 - 0s - loss: 0.0465 - accuracy: 0.9818 - 15ms/epoch - 441us/step\n",
      "Epoch 38/100\n",
      "35/35 - 0s - loss: 0.0465 - accuracy: 0.9799 - 14ms/epoch - 389us/step\n",
      "Epoch 39/100\n",
      "35/35 - 0s - loss: 0.0459 - accuracy: 0.9818 - 14ms/epoch - 387us/step\n",
      "Epoch 40/100\n",
      "35/35 - 0s - loss: 0.0455 - accuracy: 0.9799 - 13ms/epoch - 378us/step\n",
      "Epoch 41/100\n",
      "35/35 - 0s - loss: 0.0454 - accuracy: 0.9818 - 13ms/epoch - 376us/step\n",
      "Epoch 42/100\n",
      "35/35 - 0s - loss: 0.0443 - accuracy: 0.9818 - 15ms/epoch - 426us/step\n",
      "Epoch 43/100\n",
      "35/35 - 0s - loss: 0.0444 - accuracy: 0.9809 - 14ms/epoch - 388us/step\n",
      "Epoch 44/100\n",
      "35/35 - 0s - loss: 0.0445 - accuracy: 0.9799 - 13ms/epoch - 381us/step\n",
      "Epoch 45/100\n",
      "35/35 - 0s - loss: 0.0441 - accuracy: 0.9809 - 14ms/epoch - 387us/step\n",
      "Epoch 46/100\n",
      "35/35 - 0s - loss: 0.0434 - accuracy: 0.9790 - 13ms/epoch - 372us/step\n",
      "Epoch 47/100\n",
      "35/35 - 0s - loss: 0.0428 - accuracy: 0.9827 - 13ms/epoch - 379us/step\n",
      "Epoch 48/100\n",
      "35/35 - 0s - loss: 0.0429 - accuracy: 0.9790 - 13ms/epoch - 366us/step\n",
      "Epoch 49/100\n",
      "35/35 - 0s - loss: 0.0418 - accuracy: 0.9809 - 14ms/epoch - 389us/step\n",
      "Epoch 50/100\n",
      "35/35 - 0s - loss: 0.0417 - accuracy: 0.9845 - 14ms/epoch - 392us/step\n",
      "Epoch 51/100\n",
      "35/35 - 0s - loss: 0.0407 - accuracy: 0.9818 - 13ms/epoch - 372us/step\n",
      "Epoch 52/100\n",
      "35/35 - 0s - loss: 0.0399 - accuracy: 0.9881 - 13ms/epoch - 381us/step\n",
      "Epoch 53/100\n",
      "35/35 - 0s - loss: 0.0413 - accuracy: 0.9809 - 13ms/epoch - 379us/step\n",
      "Epoch 54/100\n",
      "35/35 - 0s - loss: 0.0406 - accuracy: 0.9836 - 13ms/epoch - 378us/step\n",
      "Epoch 55/100\n",
      "35/35 - 0s - loss: 0.0402 - accuracy: 0.9818 - 13ms/epoch - 371us/step\n",
      "Epoch 56/100\n",
      "35/35 - 0s - loss: 0.0395 - accuracy: 0.9836 - 14ms/epoch - 395us/step\n",
      "Epoch 57/100\n",
      "35/35 - 0s - loss: 0.0390 - accuracy: 0.9827 - 13ms/epoch - 375us/step\n",
      "Epoch 58/100\n",
      "35/35 - 0s - loss: 0.0392 - accuracy: 0.9818 - 13ms/epoch - 379us/step\n",
      "Epoch 59/100\n",
      "35/35 - 0s - loss: 0.0382 - accuracy: 0.9799 - 14ms/epoch - 412us/step\n",
      "Epoch 60/100\n",
      "35/35 - 0s - loss: 0.0397 - accuracy: 0.9845 - 13ms/epoch - 378us/step\n",
      "Epoch 61/100\n",
      "35/35 - 0s - loss: 0.0378 - accuracy: 0.9809 - 13ms/epoch - 371us/step\n",
      "Epoch 62/100\n",
      "35/35 - 0s - loss: 0.0393 - accuracy: 0.9809 - 13ms/epoch - 381us/step\n",
      "Epoch 63/100\n",
      "35/35 - 0s - loss: 0.0387 - accuracy: 0.9854 - 14ms/epoch - 387us/step\n",
      "Epoch 64/100\n",
      "35/35 - 0s - loss: 0.0375 - accuracy: 0.9827 - 13ms/epoch - 386us/step\n",
      "Epoch 65/100\n",
      "35/35 - 0s - loss: 0.0371 - accuracy: 0.9872 - 13ms/epoch - 377us/step\n",
      "Epoch 66/100\n",
      "35/35 - 0s - loss: 0.0363 - accuracy: 0.9845 - 14ms/epoch - 388us/step\n",
      "Epoch 67/100\n",
      "35/35 - 0s - loss: 0.0364 - accuracy: 0.9836 - 14ms/epoch - 395us/step\n",
      "Epoch 68/100\n",
      "35/35 - 0s - loss: 0.0365 - accuracy: 0.9827 - 15ms/epoch - 421us/step\n",
      "Epoch 69/100\n",
      "35/35 - 0s - loss: 0.0366 - accuracy: 0.9836 - 14ms/epoch - 393us/step\n",
      "Epoch 70/100\n",
      "35/35 - 0s - loss: 0.0355 - accuracy: 0.9827 - 13ms/epoch - 384us/step\n",
      "Epoch 71/100\n",
      "35/35 - 0s - loss: 0.0352 - accuracy: 0.9845 - 13ms/epoch - 382us/step\n",
      "Epoch 72/100\n",
      "35/35 - 0s - loss: 0.0354 - accuracy: 0.9863 - 14ms/epoch - 391us/step\n",
      "Epoch 73/100\n",
      "35/35 - 0s - loss: 0.0347 - accuracy: 0.9845 - 13ms/epoch - 384us/step\n",
      "Epoch 74/100\n",
      "35/35 - 0s - loss: 0.0343 - accuracy: 0.9836 - 13ms/epoch - 371us/step\n",
      "Epoch 75/100\n",
      "35/35 - 0s - loss: 0.0350 - accuracy: 0.9854 - 13ms/epoch - 380us/step\n",
      "Epoch 76/100\n",
      "35/35 - 0s - loss: 0.0347 - accuracy: 0.9854 - 14ms/epoch - 389us/step\n",
      "Epoch 77/100\n",
      "35/35 - 0s - loss: 0.0347 - accuracy: 0.9836 - 14ms/epoch - 387us/step\n",
      "Epoch 78/100\n",
      "35/35 - 0s - loss: 0.0341 - accuracy: 0.9872 - 14ms/epoch - 390us/step\n",
      "Epoch 79/100\n",
      "35/35 - 0s - loss: 0.0340 - accuracy: 0.9891 - 14ms/epoch - 386us/step\n",
      "Epoch 80/100\n",
      "35/35 - 0s - loss: 0.0336 - accuracy: 0.9845 - 13ms/epoch - 384us/step\n",
      "Epoch 81/100\n",
      "35/35 - 0s - loss: 0.0337 - accuracy: 0.9863 - 13ms/epoch - 365us/step\n",
      "Epoch 82/100\n",
      "35/35 - 0s - loss: 0.0331 - accuracy: 0.9854 - 14ms/epoch - 392us/step\n",
      "Epoch 83/100\n",
      "35/35 - 0s - loss: 0.0335 - accuracy: 0.9845 - 14ms/epoch - 394us/step\n",
      "Epoch 84/100\n",
      "35/35 - 0s - loss: 0.0333 - accuracy: 0.9872 - 13ms/epoch - 381us/step\n",
      "Epoch 85/100\n",
      "35/35 - 0s - loss: 0.0330 - accuracy: 0.9845 - 16ms/epoch - 457us/step\n",
      "Epoch 86/100\n",
      "35/35 - 0s - loss: 0.0324 - accuracy: 0.9863 - 14ms/epoch - 391us/step\n",
      "Epoch 87/100\n",
      "35/35 - 0s - loss: 0.0330 - accuracy: 0.9854 - 14ms/epoch - 389us/step\n",
      "Epoch 88/100\n",
      "35/35 - 0s - loss: 0.0323 - accuracy: 0.9854 - 15ms/epoch - 442us/step\n",
      "Epoch 89/100\n",
      "35/35 - 0s - loss: 0.0329 - accuracy: 0.9872 - 14ms/epoch - 386us/step\n",
      "Epoch 90/100\n",
      "35/35 - 0s - loss: 0.0320 - accuracy: 0.9891 - 13ms/epoch - 380us/step\n",
      "Epoch 91/100\n",
      "35/35 - 0s - loss: 0.0356 - accuracy: 0.9836 - 14ms/epoch - 389us/step\n",
      "Epoch 92/100\n",
      "35/35 - 0s - loss: 0.0316 - accuracy: 0.9845 - 13ms/epoch - 380us/step\n",
      "Epoch 93/100\n",
      "35/35 - 0s - loss: 0.0311 - accuracy: 0.9872 - 14ms/epoch - 392us/step\n",
      "Epoch 94/100\n",
      "35/35 - 0s - loss: 0.0320 - accuracy: 0.9863 - 13ms/epoch - 379us/step\n",
      "Epoch 95/100\n",
      "35/35 - 0s - loss: 0.0316 - accuracy: 0.9836 - 13ms/epoch - 385us/step\n",
      "Epoch 96/100\n",
      "35/35 - 0s - loss: 0.0307 - accuracy: 0.9881 - 14ms/epoch - 413us/step\n",
      "Epoch 97/100\n",
      "35/35 - 0s - loss: 0.0321 - accuracy: 0.9845 - 13ms/epoch - 373us/step\n",
      "Epoch 98/100\n",
      "35/35 - 0s - loss: 0.0312 - accuracy: 0.9881 - 14ms/epoch - 391us/step\n",
      "Epoch 99/100\n",
      "35/35 - 0s - loss: 0.0307 - accuracy: 0.9872 - 14ms/epoch - 387us/step\n",
      "Epoch 100/100\n",
      "35/35 - 0s - loss: 0.0306 - accuracy: 0.9881 - 14ms/epoch - 389us/step\n"
     ]
    },
    {
     "data": {
      "text/plain": [
       "<keras.callbacks.History at 0x169f464d0>"
      ]
     },
     "execution_count": 35,
     "metadata": {},
     "output_type": "execute_result"
    }
   ],
   "source": [
    "model.fit(x=X_train_scaled,y=y_train,epochs=100,verbose=2)"
   ]
  },
  {
   "cell_type": "code",
   "execution_count": null,
   "id": "b96be9e3-a5b5-4975-9d4d-ed52b8ba55c8",
   "metadata": {},
   "outputs": [],
   "source": []
  },
  {
   "cell_type": "markdown",
   "id": "cb35b86b-3667-4f0a-bd59-708088001be1",
   "metadata": {},
   "source": [
    "### Evaluating the Model"
   ]
  },
  {
   "cell_type": "code",
   "execution_count": 53,
   "id": "0bfa02dd-582d-4d52-8d9e-9862f787e655",
   "metadata": {},
   "outputs": [
    {
     "name": "stdout",
     "output_type": "stream",
     "text": [
      "9/9 [==============================] - 0s 734us/step\n"
     ]
    }
   ],
   "source": [
    "y_pred = (model.predict(X_test_scaled)>0.5).astype('int')"
   ]
  },
  {
   "cell_type": "code",
   "execution_count": 47,
   "id": "1994006e-9692-40e1-8d5d-3786f1f6e6c5",
   "metadata": {},
   "outputs": [],
   "source": [
    "# y_pred = model.predict(X_test_scaled)"
   ]
  },
  {
   "cell_type": "code",
   "execution_count": 55,
   "id": "88b3b213-e5b5-45b1-84ac-2c2b37457d75",
   "metadata": {},
   "outputs": [],
   "source": [
    "# accuracy(y_test,y_pred)"
   ]
  },
  {
   "cell_type": "code",
   "execution_count": 59,
   "id": "b4001ef2-b2a2-42c3-af59-5bd2bbc14c2a",
   "metadata": {},
   "outputs": [
    {
     "data": {
      "text/plain": [
       "['loss', 'accuracy']"
      ]
     },
     "execution_count": 59,
     "metadata": {},
     "output_type": "execute_result"
    }
   ],
   "source": [
    "model.metrics_names"
   ]
  },
  {
   "cell_type": "code",
   "execution_count": 60,
   "id": "7729b58b-4152-444e-9a05-0be164ae85ae",
   "metadata": {},
   "outputs": [
    {
     "name": "stdout",
     "output_type": "stream",
     "text": [
      "9/9 [==============================] - 0s 493us/step - loss: 0.0400 - accuracy: 0.9818\n"
     ]
    },
    {
     "data": {
      "text/plain": [
       "[0.04004696384072304, 0.9818181991577148]"
      ]
     },
     "execution_count": 60,
     "metadata": {},
     "output_type": "execute_result"
    }
   ],
   "source": [
    "model.evaluate(X_test_scaled,y_test)"
   ]
  },
  {
   "cell_type": "code",
   "execution_count": null,
   "id": "a976e1af-0aaa-44fc-9aee-1465ab663ae3",
   "metadata": {},
   "outputs": [],
   "source": []
  },
  {
   "cell_type": "markdown",
   "id": "5f16feea-746e-4b10-9bd9-e5b0aeeb8df1",
   "metadata": {},
   "source": [
    "## Confusion Matrix"
   ]
  },
  {
   "cell_type": "code",
   "execution_count": 66,
   "id": "f9ad450b-dff5-4556-a460-cba7f13ea6e1",
   "metadata": {},
   "outputs": [],
   "source": [
    "from keras.metrics import confusion_metrics\n",
    "from sklearn.metrics import confusion_matrix, classification_report"
   ]
  },
  {
   "cell_type": "code",
   "execution_count": 65,
   "id": "2ca8de2b-dbef-45f9-a69a-886b4d47ee9d",
   "metadata": {},
   "outputs": [
    {
     "data": {
      "text/plain": [
       "array([[145,   3],\n",
       "       [  2, 125]])"
      ]
     },
     "execution_count": 65,
     "metadata": {},
     "output_type": "execute_result"
    }
   ],
   "source": [
    "confusion_matrix(y_test,y_pred)"
   ]
  },
  {
   "cell_type": "code",
   "execution_count": 68,
   "id": "2fffdfeb-bd10-48c5-aa6a-2dfc4ccfad55",
   "metadata": {},
   "outputs": [
    {
     "name": "stdout",
     "output_type": "stream",
     "text": [
      "              precision    recall  f1-score   support\n",
      "\n",
      "         0.0       0.99      0.98      0.98       148\n",
      "         1.0       0.98      0.98      0.98       127\n",
      "\n",
      "    accuracy                           0.98       275\n",
      "   macro avg       0.98      0.98      0.98       275\n",
      "weighted avg       0.98      0.98      0.98       275\n",
      "\n"
     ]
    }
   ],
   "source": [
    "print(classification_report(y_test,y_pred))"
   ]
  },
  {
   "cell_type": "code",
   "execution_count": 69,
   "id": "28f2f201-d4e3-4fd6-86fb-191e1e7b7108",
   "metadata": {},
   "outputs": [],
   "source": [
    "model.save('mymodel.h5')"
   ]
  },
  {
   "cell_type": "code",
   "execution_count": 70,
   "id": "ffb53dcb-00e6-49bd-9493-fd839713adf9",
   "metadata": {},
   "outputs": [],
   "source": [
    "from keras.models import load_model"
   ]
  },
  {
   "cell_type": "code",
   "execution_count": 71,
   "id": "8a278162-daeb-48db-b904-d9cf921490e9",
   "metadata": {},
   "outputs": [],
   "source": [
    "model1 = load_model('mymodel.h5')"
   ]
  },
  {
   "cell_type": "code",
   "execution_count": 74,
   "id": "233c2f6f-b3b1-44bc-8473-db5f892ce8c4",
   "metadata": {},
   "outputs": [
    {
     "data": {
      "text/plain": [
       "array([[0.62098955, 0.75284662, 0.21900753, 0.5730998 ],\n",
       "       [0.48778602, 0.82175665, 0.09174727, 0.56211079],\n",
       "       [0.51158363, 0.77924916, 0.13830875, 0.50392598],\n",
       "       ...,\n",
       "       [0.75753773, 0.34889447, 0.37966768, 0.81250432],\n",
       "       [0.48778747, 0.82175665, 0.09174727, 0.56211079],\n",
       "       [0.70853615, 0.92621058, 0.07349701, 0.38693083]])"
      ]
     },
     "execution_count": 74,
     "metadata": {},
     "output_type": "execute_result"
    }
   ],
   "source": [
    "X_test_scaled"
   ]
  },
  {
   "cell_type": "code",
   "execution_count": 75,
   "id": "7bba7db4-6cb2-4497-88e2-c5ea0226a3f0",
   "metadata": {},
   "outputs": [],
   "source": [
    "sample_query = [[0.91158363, 0.57924916, 0.43830875, 0.40392598]]"
   ]
  },
  {
   "cell_type": "code",
   "execution_count": 76,
   "id": "88340bec-a19e-4160-acc7-9ae2846494fb",
   "metadata": {},
   "outputs": [
    {
     "name": "stdout",
     "output_type": "stream",
     "text": [
      "1/1 [==============================] - 0s 26ms/step\n"
     ]
    },
    {
     "data": {
      "text/plain": [
       "array([[0]], dtype=int32)"
      ]
     },
     "execution_count": 76,
     "metadata": {},
     "output_type": "execute_result"
    }
   ],
   "source": [
    "(model1.predict(sample_query)>0.5).astype('int32')"
   ]
  },
  {
   "cell_type": "code",
   "execution_count": 77,
   "id": "461067a3-f066-4833-b2ee-b8b7410f1853",
   "metadata": {},
   "outputs": [
    {
     "data": {
      "text/plain": [
       "<keras.engine.sequential.Sequential at 0x16a548910>"
      ]
     },
     "execution_count": 77,
     "metadata": {},
     "output_type": "execute_result"
    }
   ],
   "source": [
    "model1"
   ]
  }
 ],
 "metadata": {
  "kernelspec": {
   "display_name": "Python 3 (ipykernel)",
   "language": "python",
   "name": "python3"
  },
  "language_info": {
   "codemirror_mode": {
    "name": "ipython",
    "version": 3
   },
   "file_extension": ".py",
   "mimetype": "text/x-python",
   "name": "python",
   "nbconvert_exporter": "python",
   "pygments_lexer": "ipython3",
   "version": "3.11.5"
  }
 },
 "nbformat": 4,
 "nbformat_minor": 5
}
